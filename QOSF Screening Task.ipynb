{
 "cells": [
  {
   "cell_type": "markdown",
   "metadata": {},
   "source": [
    "# Qosf Screening: Task 2"
   ]
  },
  {
   "cell_type": "markdown",
   "metadata": {},
   "source": [
    "## Using phase-flip code for Quantum Error Correction."
   ]
  },
  {
   "cell_type": "markdown",
   "metadata": {},
   "source": [
    "### 1. Creating a Bell State:"
   ]
  },
  {
   "cell_type": "code",
   "execution_count": 13,
   "metadata": {},
   "outputs": [
    {
     "data": {
      "image/png": "[encoded data removed]",
      "text/plain": [
       "<Figure size 206.852x144.48 with 1 Axes>"
      ]
     },
     "execution_count": 13,
     "metadata": {},
     "output_type": "execute_result"
    }
   ],
   "source": [
    "import qiskit\n",
    "from qiskit import QuantumCircuit, QuantumRegister, ClassicalRegister, Aer, execute\n",
    "from qiskit.visualization import plot_histogram\n",
    "from math import sqrt, pi\n",
    "\n",
    "qr = QuantumRegister(2, 'q')\n",
    "qc = QuantumCircuit(qr)\n",
    "\n",
    "qc.h(qr[0])\n",
    "qc.cx(qr[0], qr[1])\n",
    "qc.draw('mpl')"
   ]
  },
  {
   "cell_type": "code",
   "execution_count": 8,
   "metadata": {},
   "outputs": [
    {
     "name": "stdout",
     "output_type": "stream",
     "text": [
      "[0.70710678+0.j 0.        +0.j 0.        +0.j 0.70710678+0.j]\n"
     ]
    }
   ],
   "source": [
    "backend = Aer.get_backend('statevector_simulator')\n",
    "Bell_state = execute(qc, Aer.get_backend('statevector_simulator')).result().get_statevector()\n",
    "print(Bell_state)"
   ]
  },
  {
   "cell_type": "markdown",
   "metadata": {},
   "source": [
    "This Bell state can be explained by the following logic:\n",
    "$$\\newcommand{\\ket}[1]{\\right\\rangle}$$\n",
    "  $$ |0\\rangle = \\begin{pmatrix} 1\\\\ 0 \\end{pmatrix}$$\n",
    "  \n",
    "  $$ |H\\rangle = \\frac{1}{\\sqrt{2}}\\begin{pmatrix} 1 & 1\\\\ 1 & -1 \\end{pmatrix}$$  \n",
    "  \n",
    "  The product of the Hadamard gate and the zero gate is given by:\n",
    "  \n",
    "  $$ H|0\\rangle = \\frac{1}{\\sqrt{2}}\\begin{pmatrix} 1 & 1\\\\ 1 & -1 \\end{pmatrix}\\begin{pmatrix} 1\\\\ 0 \\end{pmatrix} = \\frac{1}{\\sqrt{2}}\\begin{pmatrix} 1\\\\ 1 \\end{pmatrix}$$\n",
    "  \n",
    "  This state is also known as the superposition state given by:\n",
    "  \n",
    "  $$|+\\rangle = \\frac{1}{\\sqrt{2}}(|0\\rangle + |1\\rangle)$$\n",
    "  This is known as the superposition state because both the states 0 and 1 exist simultaneously in a single state.\n",
    "  Using the CNOT gate we entangle the two qubits thereby creating an entangled state. The two qubits are entangled using the tensor product. Let us call this product $|\\psi\\rangle$.\n",
    "  \n",
    "  $$|\\psi\\rangle = |(q_1)+\\rangle = |q_1\\rangle \\otimes |+\\rangle =\\frac{1}{\\sqrt{2}} \\begin{pmatrix} 1 \\times \\begin{pmatrix} 1\\\\ 1 \\end{pmatrix}\\\\ 0 \\times \\begin{pmatrix} 1\\\\ 1 \\end{pmatrix} \\end{pmatrix} = \\frac{1}{\\sqrt{2}}\\begin{pmatrix} 1\\\\ 1\\\\ 0\\\\ 0 \\end{pmatrix}$$\n",
    " The CNOT matrix is: $$CNOT = \\begin{pmatrix} 1 & 0 & 0 & 0\\\\ 0 & 0 & 0 & 1\\\\ 0 & 0 & 1 & 0\\\\ 0 & 1 & 0 & 0 \\end{pmatrix}$$\n",
    " \n",
    " The matrix product of CNOT and $|\\psi\\rangle$ is a new entangled state let us name it as $|\\psi\\rangle_L$\n",
    " \n",
    " $$|\\psi\\rangle_L = CNOT|\\psi\\rangle = \\frac{1}{\\sqrt{2}}\\begin{pmatrix} 1 & 0 & 0 & 0\\\\ 0 & 0 & 0 & 1\\\\ 0 & 0 & 1 & 0\\\\ 0 & 1 & 0 & 0 \\end{pmatrix} \\begin{pmatrix} 1\\\\ 1\\\\ 0\\\\ 0 \\end{pmatrix} = \\frac{1}{\\sqrt{2}}\\begin{pmatrix} 1\\\\ 0\\\\ 0\\\\ 1 \\end{pmatrix}$$\n",
    " \n",
    " This entangled state is equivalent to $|\\psi\\rangle_L = \\frac{1}{\\sqrt{2}}(|00\\rangle + |11\\rangle)$\n",
    " \n",
    " This result agrees exactly with the result we got from the circuit measurement.\n",
    " The reason we used the $|0\\rangle$ gates as the basis gates because qubits in Qiskit simulator are by default set as the $|0\\rangle$ gates. \n",
    " \n",
    " \n",
    " ### 2. Adding the error gates\n",
    " \n",
    " I chose the phase-flip gate as the choice of my error gate, which is also known as the Z-gate denoted by the Pauli matrix: \n",
    " \n",
    " $$\\sigma_z = \\begin{pmatrix} 1 & 0\\\\ 0 & -1 \\end{pmatrix}$$ "
   ]
  },
  {
   "cell_type": "code",
   "execution_count": 14,
   "metadata": {},
   "outputs": [
    {
     "data": {
      "image/png": "[encoded data removed]",
      "text/plain": [
       "<Figure size 267.052x144.48 with 1 Axes>"
      ]
     },
     "execution_count": 14,
     "metadata": {},
     "output_type": "execute_result"
    }
   ],
   "source": [
    "qr = QuantumRegister(2, 'q')\n",
    "qc = QuantumCircuit(qr)\n",
    "\n",
    "qc.h(qr[0])\n",
    "qc.z(qr[0])\n",
    "qc.z(qr[1])\n",
    "qc.cx(qr[0], qr[1])\n",
    "qc.draw('mpl')"
   ]
  },
  {
   "cell_type": "code",
   "execution_count": 15,
   "metadata": {},
   "outputs": [
    {
     "name": "stdout",
     "output_type": "stream",
     "text": [
      "[ 0.70710678+0.j  0.        -0.j -0.        +0.j -0.70710678+0.j]\n"
     ]
    }
   ],
   "source": [
    "backend = Aer.get_backend('statevector_simulator')\n",
    "final_state = execute(qc, Aer.get_backend('statevector_simulator')).result().get_statevector()\n",
    "print(final_state)"
   ]
  },
  {
   "cell_type": "markdown",
   "metadata": {},
   "source": [
    "The errors can be found out by the following circuit:"
   ]
  },
  {
   "cell_type": "code",
   "execution_count": 19,
   "metadata": {},
   "outputs": [
    {
     "data": {
      "image/png": "[encoded data removed]",
      "text/plain": [
       "<Figure size 623.092x264.88 with 1 Axes>"
      ]
     },
     "execution_count": 19,
     "metadata": {},
     "output_type": "execute_result"
    }
   ],
   "source": [
    "qr = QuantumRegister(2, 'code_qubit')\n",
    "ar = QuantumRegister(1, 'ancilla_qubit')\n",
    "cr = ClassicalRegister(1, 'syndrome_bit')\n",
    "qc = QuantumCircuit(qr, ar, cr)\n",
    "\n",
    "qc.h(qr[0])\n",
    "qc.z(qr[0])\n",
    "qc.z(qr[1])\n",
    "qc.cx(qr[0], qr[1])\n",
    "\n",
    "qc.cx(qr[0], ar[0])\n",
    "qc.cx(qr[1], ar[0])\n",
    "qc.h(ar[0])\n",
    "qc.measure(ar[0], cr[0])\n",
    "qc.draw('mpl')"
   ]
  },
  {
   "cell_type": "code",
   "execution_count": 20,
   "metadata": {},
   "outputs": [
    {
     "name": "stdout",
     "output_type": "stream",
     "text": [
      "{'0': 510, '1': 514}\n"
     ]
    }
   ],
   "source": [
    "counts = execute(qc, Aer.get_backend('qasm_simulator')).result().get_counts()\n",
    "print(counts)"
   ]
  },
  {
   "cell_type": "markdown",
   "metadata": {},
   "source": [
    "The two ancilla qubits are always initalized in the $|0\\rangle$ state. With the syndrome bit we extract one bit output from the states. This does not disturb the wavefunction as we use measurement on the ancilla bit to see if there is an error. For basis state in Z basis like $|00\\rangle$ and $|11\\rangle$ the measurement simply returns '0' as the output but if they are in $|01\\rangle$ or $|10\\rangle$ state then it returns 1 as the value depicting an error. So to find if there is an error I used a Hadamard gate to measure the state in the X basis. But this measurement tells us about the collective property of the error and not the specific qubit. That is determined by the calculation below."
   ]
  },
  {
   "cell_type": "markdown",
   "metadata": {},
   "source": [
    "Here we can see that the phase of the final term is changed due to the introduction of the error gate.\n",
    "\n",
    "The Z error gate is a special gate. It changes the phase of the statevector but also causes a bit-flip in the X basis. Hence, we get two different types of errors in a single error gate operation.\n",
    "\n",
    "Now to find that which qubit caused the error, the first qubit the calculation is as follows:\n",
    "\n",
    " $$\\sigma_zH|0\\rangle = \\frac{1}{\\sqrt{2}}\\begin{pmatrix} 1 & 0\\\\ 0 & -1\\end{pmatrix} \\begin{pmatrix} 1\\\\ 1 \\end{pmatrix} = \\frac{1}{\\sqrt{2}}\\begin{pmatrix} 1\\\\ -1 \\end{pmatrix}$$\n",
    " \n",
    " This state is also known as the $|-\\rangle$ state; $|-\\rangle = \\frac{1}{\\sqrt{2}}(|0\\rangle - |1\\rangle)$\n",
    " \n",
    " Interestingly, for the second qubit the $\\sigma_z$ matrix has no effect on the $|0\\rangle$,\n",
    " \n",
    " $$\\sigma_z|0\\rangle = \\begin{pmatrix} 1 & 0\\\\ 0 & -1 \\end{pmatrix}\\begin{pmatrix} 1\\\\ 0 \\end{pmatrix} = \\begin{pmatrix} 1\\\\ 0 \\end{pmatrix}$$\n",
    " \n",
    " Now the entangled state of the two qubits changes to, $|\\psi_1\\rangle$\n",
    " \n",
    " $$|\\psi_1\\rangle = |(q_1)-\\rangle = |q_1\\rangle \\otimes |-\\rangle =\\frac{1}{\\sqrt{2}} \\begin{pmatrix} 1 \\times \\begin{pmatrix} 1\\\\ -1 \\end{pmatrix}\\\\ 0 \\times \\begin{pmatrix} 1\\\\ -1 \\end{pmatrix} \\end{pmatrix} = \\frac{1}{\\sqrt{2}}\\begin{pmatrix} 1\\\\ -1\\\\ 0\\\\ 0 \\end{pmatrix}$$\n",
    " \n",
    " Applying the CNOT gate we get:\n",
    " \n",
    " $$|\\psi_1\\rangle_L = CNOT|\\psi_1\\rangle = \\frac{1}{\\sqrt{2}}\\begin{pmatrix} 1 & 0 & 0 & 0\\\\ 0 & 0 & 0 & 1\\\\ 0 & 0 & 1 & 0\\\\ 0 & 1 & 0 & 0 \\end{pmatrix} \\begin{pmatrix} 1\\\\ -1\\\\ 0\\\\ 0 \\end{pmatrix} = \\frac{1}{\\sqrt{2}}\\begin{pmatrix} 1\\\\ 0\\\\ 0\\\\ -1 \\end{pmatrix}$$\n",
    " \n",
    " This result is in accordance with the circuit measurement after applying the error gate.\n",
    " \n",
    " ### 3. Applying the phase/sign-flip code\n",
    " \n",
    " Now that we have narrowed to down the location of the error (the $\\sigma_z$ gate on the first qubit) we are ready to apply the phase-flip error code to that gate."
   ]
  },
  {
   "cell_type": "code",
   "execution_count": 23,
   "metadata": {},
   "outputs": [
    {
     "data": {
      "image/png": "[encoded data removed]",
      "text/plain": [
       "<Figure size 917.169x264.88 with 1 Axes>"
      ]
     },
     "execution_count": 23,
     "metadata": {},
     "output_type": "execute_result"
    }
   ],
   "source": [
    "qr = QuantumRegister(2, 'q')\n",
    "ar = QuantumRegister(2, 'ancilla_qubit')\n",
    "qc = QuantumCircuit(qr, ar)\n",
    "\n",
    "qc.h(qr[0])\n",
    "qc.z(qr[1])\n",
    "\n",
    "qc.barrier()\n",
    "\n",
    "qc.cx(qr[0], ar[0])\n",
    "qc.cx(qr[0], ar[1])\n",
    "\n",
    "qc.h(qr[0])\n",
    "qc.h(ar[0])\n",
    "qc.h(ar[1])\n",
    "qc.z(qr[0]) # To simulate phase flip error\n",
    "qc.h(qr[0])\n",
    "qc.h(ar[0])\n",
    "qc.h(ar[1])\n",
    "\n",
    "qc.cx(qr[0], ar[1])\n",
    "qc.cx(qr[0], ar[0])\n",
    "\n",
    "qc.ccx(ar[1], ar[0], qr[0])\n",
    "\n",
    "qc.barrier()\n",
    "\n",
    "qc.cx(qr[0], qr[1])\n",
    "\n",
    "qc.draw('mpl')"
   ]
  },
  {
   "cell_type": "markdown",
   "metadata": {},
   "source": [
    "The above circuit represents the phase-flip error correcting circuit. This circuit is used as an error correction circuit for the phase-flip error which will correct the bit-flip error in the X basis as well. "
   ]
  },
  {
   "cell_type": "markdown",
   "metadata": {},
   "source": [
    "### 4. Measurements:\n",
    "\n",
    "We now measure the circuit errors with multiple shots using the IBMQ qasm simulator and also on the qiskit qasm simulator."
   ]
  },
  {
   "cell_type": "code",
   "execution_count": 27,
   "metadata": {},
   "outputs": [
    {
     "name": "stderr",
     "output_type": "stream",
     "text": [
      "ibmqfactory.load_account:WARNING:2021-02-11 21:58:11,387: Credentials are already in use. The existing account in the session will be replaced.\n"
     ]
    },
    {
     "name": "stdout",
     "output_type": "stream",
     "text": [
      "\n",
      " Phase flip code with error \n",
      "----------------------\n",
      "{'0': 1024}\n"
     ]
    }
   ],
   "source": [
    "from qiskit import QuantumCircuit, QuantumRegister, ClassicalRegister, execute, Aer, IBMQ\n",
    "from qiskit.visualization import plot_histogram\n",
    "\n",
    "qr = QuantumRegister(2, 'code_qubit')\n",
    "ar = QuantumRegister(2, 'ancilla_qubit')\n",
    "cr = ClassicalRegister(1, 'syndrome_bit')\n",
    "qc = QuantumCircuit(qr, ar, cr)\n",
    "\n",
    "qc.h(qr[0])\n",
    "qc.z(qr[1])\n",
    "\n",
    "qc.barrier()\n",
    "\n",
    "qc.cx(qr[0], ar[0])\n",
    "qc.cx(qr[0], ar[1])\n",
    "\n",
    "qc.h(qr[0])\n",
    "qc.h(ar[0])\n",
    "qc.h(ar[1])\n",
    "qc.z(qr[0]) # To simulate phase flip error\n",
    "qc.h(qr[0])\n",
    "qc.h(ar[0])\n",
    "qc.h(ar[1])\n",
    "\n",
    "qc.cx(qr[0], ar[1])\n",
    "qc.cx(qr[0], ar[0])\n",
    "\n",
    "qc.ccx(ar[1], ar[0], qr[0])\n",
    "\n",
    "qc.barrier()\n",
    "\n",
    "qc.cx(qr[0], qr[1])\n",
    "\n",
    "provider = IBMQ.load_account()\n",
    "backend = provider.get_backend('ibmq_qasm_simulator')\n",
    "\n",
    "job = execute(qc, backend, shots = 1024)\n",
    "\n",
    "counts = job.result().get_counts()\n",
    "\n",
    "print(\"\\n Phase flip code with error \")\n",
    "print(\"----------------------\")\n",
    "print(counts)"
   ]
  },
  {
   "cell_type": "code",
   "execution_count": 28,
   "metadata": {},
   "outputs": [
    {
     "name": "stdout",
     "output_type": "stream",
     "text": [
      "{'0': 1024}\n"
     ]
    }
   ],
   "source": [
    "counts = execute(qc, Aer.get_backend('qasm_simulator')).result().get_counts()\n",
    "print(counts)"
   ]
  },
  {
   "cell_type": "code",
   "execution_count": 29,
   "metadata": {},
   "outputs": [
    {
     "data": {
      "image/png": "[encoded data removed]",
      "text/plain": [
       "<Figure size 504x360 with 1 Axes>"
      ]
     },
     "execution_count": 29,
     "metadata": {},
     "output_type": "execute_result"
    }
   ],
   "source": [
    "plot_histogram(counts)"
   ]
  },
  {
   "cell_type": "markdown",
   "metadata": {},
   "source": [
    "Thus as expected the phase-flip error correction circuit has resulted in resolving both the errors of phase-flip and bit-flip in Z and X basis respectively. "
   ]
  },
  {
   "cell_type": "markdown",
   "metadata": {},
   "source": [
    "### References:\n",
    "\n",
    "1) Michael A. Nielsen and Isaac L. Chuang (2010). *Quantum Computation and Quantum Information*.\n",
    "\n",
    "2) *Qiskit Textbook* https://qiskit.org/textbook/ch-quantum-hardware/error-correction-repetition-code.html\n",
    "\n",
    "3) J Roffe. *Quantum Error Correction: An introductory Guide* https://arxiv.org/abs/1907.11157"
   ]
  },
  {
   "cell_type": "code",
   "execution_count": null,
   "metadata": {},
   "outputs": [],
   "source": []
  }
 ],
 "metadata": {
  "kernelspec": {
   "display_name": "Python 3",
   "language": "python",
   "name": "python3"
  },
  "language_info": {
   "codemirror_mode": {
    "name": "ipython",
    "version": 3
   },
   "file_extension": ".py",
   "mimetype": "text/x-python",
   "name": "python",
   "nbconvert_exporter": "python",
   "pygments_lexer": "ipython3",
   "version": "3.8.5"
  }
 },
 "nbformat": 4,
 "nbformat_minor": 4
}
